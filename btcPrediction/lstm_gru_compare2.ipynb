{
 "cells": [
  {
   "cell_type": "code",
   "execution_count": 33,
   "metadata": {
    "collapsed": true
   },
   "outputs": [
    {
     "data": {
      "text/plain": "              날짜        종가        오픈        거래량       변동 %   실업자  실업률(%)  \\\n0     2017-05-23   3206000   3104000  21.580000  21.580000  99.5     3.6   \n1     2017-05-24   4175000   3206000  34.680000  34.680000  99.5     3.6   \n2     2017-05-25   4199000   4175000  35.910000  35.910000  99.5     3.6   \n3     2017-05-26   3227000   4199000  36.650002  36.650002  99.5     3.6   \n4     2017-05-27   3152000   3227000  33.750000  33.750000  99.5     3.6   \n...          ...       ...       ...        ...        ...   ...     ...   \n1501  2021-07-02  39417000  39335000   0.520000   0.520000  92.0     3.2   \n1502  2021-07-03  40335000  39413000   0.190000   0.190000  92.0     3.2   \n1503  2021-07-04  40914000  41183000   0.550000   0.550000  92.0     3.2   \n1504  2021-07-05  39484000  40914000   0.700000   0.700000  92.0     3.2   \n1505  2021-07-06  39814000  39462000   0.040000   0.040000  92.0     3.2   \n\n      청년실업자  청년실업률(%)    빈도(부정)    빈도(긍정)  코스피지수변화     순매수비율  \n0      40.8       9.2  16.90149  14.58574   0.0033  0.008202  \n1      40.8       9.2  16.92568  15.11493   0.0024  0.008202  \n2      40.8       9.2  16.57495  16.02447   0.0110  0.008202  \n3      40.8       9.2  14.21660  12.58475   0.0053  0.008202  \n4      40.8       9.2  10.08647   8.97965   0.0000  0.008202  \n...     ...       ...       ...       ...      ...       ...  \n1501   30.8       7.2  16.68379  15.77641  -0.0001  0.002991  \n1502   30.8       7.2  13.23093  10.73259   0.0000  0.002991  \n1503   30.8       7.2  11.24750  10.78220   0.0000  0.002991  \n1504   30.8       7.2  15.66184  17.03323   0.0035  0.002991  \n1505   30.8       7.2  17.92344  17.04977   0.0036  0.002991  \n\n[1506 rows x 13 columns]",
      "text/html": "<div>\n<style scoped>\n    .dataframe tbody tr th:only-of-type {\n        vertical-align: middle;\n    }\n\n    .dataframe tbody tr th {\n        vertical-align: top;\n    }\n\n    .dataframe thead th {\n        text-align: right;\n    }\n</style>\n<table border=\"1\" class=\"dataframe\">\n  <thead>\n    <tr style=\"text-align: right;\">\n      <th></th>\n      <th>날짜</th>\n      <th>종가</th>\n      <th>오픈</th>\n      <th>거래량</th>\n      <th>변동 %</th>\n      <th>실업자</th>\n      <th>실업률(%)</th>\n      <th>청년실업자</th>\n      <th>청년실업률(%)</th>\n      <th>빈도(부정)</th>\n      <th>빈도(긍정)</th>\n      <th>코스피지수변화</th>\n      <th>순매수비율</th>\n    </tr>\n  </thead>\n  <tbody>\n    <tr>\n      <th>0</th>\n      <td>2017-05-23</td>\n      <td>3206000</td>\n      <td>3104000</td>\n      <td>21.580000</td>\n      <td>21.580000</td>\n      <td>99.5</td>\n      <td>3.6</td>\n      <td>40.8</td>\n      <td>9.2</td>\n      <td>16.90149</td>\n      <td>14.58574</td>\n      <td>0.0033</td>\n      <td>0.008202</td>\n    </tr>\n    <tr>\n      <th>1</th>\n      <td>2017-05-24</td>\n      <td>4175000</td>\n      <td>3206000</td>\n      <td>34.680000</td>\n      <td>34.680000</td>\n      <td>99.5</td>\n      <td>3.6</td>\n      <td>40.8</td>\n      <td>9.2</td>\n      <td>16.92568</td>\n      <td>15.11493</td>\n      <td>0.0024</td>\n      <td>0.008202</td>\n    </tr>\n    <tr>\n      <th>2</th>\n      <td>2017-05-25</td>\n      <td>4199000</td>\n      <td>4175000</td>\n      <td>35.910000</td>\n      <td>35.910000</td>\n      <td>99.5</td>\n      <td>3.6</td>\n      <td>40.8</td>\n      <td>9.2</td>\n      <td>16.57495</td>\n      <td>16.02447</td>\n      <td>0.0110</td>\n      <td>0.008202</td>\n    </tr>\n    <tr>\n      <th>3</th>\n      <td>2017-05-26</td>\n      <td>3227000</td>\n      <td>4199000</td>\n      <td>36.650002</td>\n      <td>36.650002</td>\n      <td>99.5</td>\n      <td>3.6</td>\n      <td>40.8</td>\n      <td>9.2</td>\n      <td>14.21660</td>\n      <td>12.58475</td>\n      <td>0.0053</td>\n      <td>0.008202</td>\n    </tr>\n    <tr>\n      <th>4</th>\n      <td>2017-05-27</td>\n      <td>3152000</td>\n      <td>3227000</td>\n      <td>33.750000</td>\n      <td>33.750000</td>\n      <td>99.5</td>\n      <td>3.6</td>\n      <td>40.8</td>\n      <td>9.2</td>\n      <td>10.08647</td>\n      <td>8.97965</td>\n      <td>0.0000</td>\n      <td>0.008202</td>\n    </tr>\n    <tr>\n      <th>...</th>\n      <td>...</td>\n      <td>...</td>\n      <td>...</td>\n      <td>...</td>\n      <td>...</td>\n      <td>...</td>\n      <td>...</td>\n      <td>...</td>\n      <td>...</td>\n      <td>...</td>\n      <td>...</td>\n      <td>...</td>\n      <td>...</td>\n    </tr>\n    <tr>\n      <th>1501</th>\n      <td>2021-07-02</td>\n      <td>39417000</td>\n      <td>39335000</td>\n      <td>0.520000</td>\n      <td>0.520000</td>\n      <td>92.0</td>\n      <td>3.2</td>\n      <td>30.8</td>\n      <td>7.2</td>\n      <td>16.68379</td>\n      <td>15.77641</td>\n      <td>-0.0001</td>\n      <td>0.002991</td>\n    </tr>\n    <tr>\n      <th>1502</th>\n      <td>2021-07-03</td>\n      <td>40335000</td>\n      <td>39413000</td>\n      <td>0.190000</td>\n      <td>0.190000</td>\n      <td>92.0</td>\n      <td>3.2</td>\n      <td>30.8</td>\n      <td>7.2</td>\n      <td>13.23093</td>\n      <td>10.73259</td>\n      <td>0.0000</td>\n      <td>0.002991</td>\n    </tr>\n    <tr>\n      <th>1503</th>\n      <td>2021-07-04</td>\n      <td>40914000</td>\n      <td>41183000</td>\n      <td>0.550000</td>\n      <td>0.550000</td>\n      <td>92.0</td>\n      <td>3.2</td>\n      <td>30.8</td>\n      <td>7.2</td>\n      <td>11.24750</td>\n      <td>10.78220</td>\n      <td>0.0000</td>\n      <td>0.002991</td>\n    </tr>\n    <tr>\n      <th>1504</th>\n      <td>2021-07-05</td>\n      <td>39484000</td>\n      <td>40914000</td>\n      <td>0.700000</td>\n      <td>0.700000</td>\n      <td>92.0</td>\n      <td>3.2</td>\n      <td>30.8</td>\n      <td>7.2</td>\n      <td>15.66184</td>\n      <td>17.03323</td>\n      <td>0.0035</td>\n      <td>0.002991</td>\n    </tr>\n    <tr>\n      <th>1505</th>\n      <td>2021-07-06</td>\n      <td>39814000</td>\n      <td>39462000</td>\n      <td>0.040000</td>\n      <td>0.040000</td>\n      <td>92.0</td>\n      <td>3.2</td>\n      <td>30.8</td>\n      <td>7.2</td>\n      <td>17.92344</td>\n      <td>17.04977</td>\n      <td>0.0036</td>\n      <td>0.002991</td>\n    </tr>\n  </tbody>\n</table>\n<p>1506 rows × 13 columns</p>\n</div>"
     },
     "execution_count": 33,
     "metadata": {},
     "output_type": "execute_result"
    }
   ],
   "source": [
    "import numpy as np\n",
    "import pandas as pd\n",
    "import matplotlib.pyplot as plt\n",
    "\n",
    "df = pd.read_csv('total_data_set.csv', thousands=',')\n",
    "\n",
    "df['거래량'] = df.거래량.str.replace('K', '').astype('float32')\n",
    "df['변동 %']=df.거래량.replace('%', '').astype('float32')\n",
    "\n",
    "df"
   ]
  },
  {
   "cell_type": "code",
   "execution_count": 34,
   "outputs": [],
   "source": [
    "prediction_days = 121\n",
    "split = len(df)-prediction_days\n",
    "all_data = df.drop('날짜', axis=1)"
   ],
   "metadata": {
    "collapsed": false,
    "pycharm": {
     "name": "#%%\n"
    }
   }
  },
  {
   "cell_type": "markdown",
   "source": [
    "scaler transformation"
   ],
   "metadata": {
    "collapsed": false,
    "pycharm": {
     "name": "#%% md\n"
    }
   }
  },
  {
   "cell_type": "code",
   "execution_count": 35,
   "outputs": [],
   "source": [
    "def ts_train_test_normalize(all_data, time_steps, for_periods):\n",
    "    \"\"\"\n",
    "    input:\n",
    "        data: dataframe with dates and price data\n",
    "    output:\n",
    "        X_train, y_train: data from 2013/1/1-2018/12/31\n",
    "        X_test : data from 2019-\n",
    "        sc :     insantiated MinMaxScaler object fit to the training data\n",
    "    \"\"\"\n",
    "    # create training and test set\n",
    "\n",
    "    ts_train = all_data[:split].iloc[:,0:1].values\n",
    "    ts_test = all_data[split:].iloc[:,0:1].values\n",
    "    ts_train_len = len(ts_train)\n",
    "    ts_test_len = len(ts_test)\n",
    "\n",
    "    # scale the data\n",
    "    from sklearn.preprocessing import MinMaxScaler\n",
    "    sc = MinMaxScaler(feature_range=(0,1))\n",
    "    ts_train_scaled = sc.fit_transform(ts_train)\n",
    "\n",
    "    # create training data of s samples and t time steps\n",
    "    X_train = []\n",
    "    y_train = []\n",
    "    for i in range(time_steps, ts_train_len-1):\n",
    "        X_train.append(ts_train_scaled[i-time_steps:i, 0])\n",
    "        y_train.append(ts_train_scaled[i:i+for_periods, 0])\n",
    "    X_train, y_train = np.array(X_train), np.array(y_train)\n",
    "\n",
    "    # Reshaping X_train for efficient modelling\n",
    "    X_train = np.reshape(X_train, (X_train.shape[0], X_train.shape[1], 1 ))\n",
    "\n",
    "    inputs = pd.concat((all_data['종가'][:split], all_data['종가'][split:]), axis=0).values\n",
    "    inputs = inputs[len(inputs)-len(ts_test)-time_steps:]\n",
    "    inputs = inputs.reshape(-1,1)\n",
    "    inputs = sc.transform(inputs)\n",
    "\n",
    "    # Preparing X_test\n",
    "    X_test = []\n",
    "    for i in range(time_steps, ts_test_len + time_steps - for_periods):\n",
    "        X_test.append(inputs[i-time_steps:i,0])\n",
    "\n",
    "    X_test = np.array(X_test)\n",
    "    X_test = np.reshape(X_test, (X_test.shape[0], X_test.shape[1], 1))\n",
    "\n",
    "    return X_train, y_train , X_test, sc"
   ],
   "metadata": {
    "collapsed": false,
    "pycharm": {
     "name": "#%%\n"
    }
   }
  },
  {
   "cell_type": "code",
   "source": [
    "X_train, y_train, X_test, sc = ts_train_test_normalize(all_data, 5,2)\n",
    "X_train.shape[0], X_train.shape[1]"
   ],
   "metadata": {
    "collapsed": false,
    "pycharm": {
     "name": "#%%\n"
    }
   },
   "execution_count": 36,
   "outputs": [
    {
     "data": {
      "text/plain": "(1379, 5)"
     },
     "execution_count": 36,
     "metadata": {},
     "output_type": "execute_result"
    }
   ]
  },
  {
   "cell_type": "code",
   "execution_count": 37,
   "outputs": [
    {
     "name": "stdout",
     "output_type": "stream",
     "text": [
      "There are 1379 samples in the training data\n",
      "There are 119 samples in the test data\n"
     ]
    }
   ],
   "source": [
    "# Convert the 3D shape of X_train to a data frame so we can see:\n",
    "X_train_see = pd.DataFrame(np.reshape(X_train, (X_train.shape[0], X_train.shape[1])))\n",
    "y_train_see = pd.DataFrame(y_train)\n",
    "pd.concat([X_train_see, y_train_see], axis = 1)\n",
    "\n",
    "# Convert the 3D shape of X_test to a data frame so we can see:\n",
    "X_test_see = pd.DataFrame(np.reshape(X_test, (X_test.shape[0], X_test.shape[1])))\n",
    "pd.DataFrame(X_test_see)\n",
    "\n",
    "print(\"There are \" + str(X_train.shape[0]) + \" samples in the training data\")\n",
    "print(\"There are \" + str(X_test.shape[0]) + \" samples in the test data\")"
   ],
   "metadata": {
    "collapsed": false,
    "pycharm": {
     "name": "#%%\n"
    }
   }
  },
  {
   "cell_type": "code",
   "execution_count": 38,
   "outputs": [
    {
     "data": {
      "text/plain": "             0         1         2         3         4\n0     0.015711  0.031042  0.031422  0.016043  0.014856\n1     0.031042  0.031422  0.016043  0.014856  0.014809\n2     0.031422  0.016043  0.014856  0.014809  0.015711\n3     0.016043  0.014856  0.014809  0.015711  0.014730\n4     0.014856  0.014809  0.015711  0.014730  0.013005\n...        ...       ...       ...       ...       ...\n1374  0.818780  0.812831  0.809999  0.784384  0.856609\n1375  0.812831  0.809999  0.784384  0.856609  0.850407\n1376  0.809999  0.784384  0.856609  0.850407  0.880120\n1377  0.784384  0.856609  0.850407  0.880120  0.856546\n1378  0.856609  0.850407  0.880120  0.856546  0.858998\n\n[1379 rows x 5 columns]",
      "text/html": "<div>\n<style scoped>\n    .dataframe tbody tr th:only-of-type {\n        vertical-align: middle;\n    }\n\n    .dataframe tbody tr th {\n        vertical-align: top;\n    }\n\n    .dataframe thead th {\n        text-align: right;\n    }\n</style>\n<table border=\"1\" class=\"dataframe\">\n  <thead>\n    <tr style=\"text-align: right;\">\n      <th></th>\n      <th>0</th>\n      <th>1</th>\n      <th>2</th>\n      <th>3</th>\n      <th>4</th>\n    </tr>\n  </thead>\n  <tbody>\n    <tr>\n      <th>0</th>\n      <td>0.015711</td>\n      <td>0.031042</td>\n      <td>0.031422</td>\n      <td>0.016043</td>\n      <td>0.014856</td>\n    </tr>\n    <tr>\n      <th>1</th>\n      <td>0.031042</td>\n      <td>0.031422</td>\n      <td>0.016043</td>\n      <td>0.014856</td>\n      <td>0.014809</td>\n    </tr>\n    <tr>\n      <th>2</th>\n      <td>0.031422</td>\n      <td>0.016043</td>\n      <td>0.014856</td>\n      <td>0.014809</td>\n      <td>0.015711</td>\n    </tr>\n    <tr>\n      <th>3</th>\n      <td>0.016043</td>\n      <td>0.014856</td>\n      <td>0.014809</td>\n      <td>0.015711</td>\n      <td>0.014730</td>\n    </tr>\n    <tr>\n      <th>4</th>\n      <td>0.014856</td>\n      <td>0.014809</td>\n      <td>0.015711</td>\n      <td>0.014730</td>\n      <td>0.013005</td>\n    </tr>\n    <tr>\n      <th>...</th>\n      <td>...</td>\n      <td>...</td>\n      <td>...</td>\n      <td>...</td>\n      <td>...</td>\n    </tr>\n    <tr>\n      <th>1374</th>\n      <td>0.818780</td>\n      <td>0.812831</td>\n      <td>0.809999</td>\n      <td>0.784384</td>\n      <td>0.856609</td>\n    </tr>\n    <tr>\n      <th>1375</th>\n      <td>0.812831</td>\n      <td>0.809999</td>\n      <td>0.784384</td>\n      <td>0.856609</td>\n      <td>0.850407</td>\n    </tr>\n    <tr>\n      <th>1376</th>\n      <td>0.809999</td>\n      <td>0.784384</td>\n      <td>0.856609</td>\n      <td>0.850407</td>\n      <td>0.880120</td>\n    </tr>\n    <tr>\n      <th>1377</th>\n      <td>0.784384</td>\n      <td>0.856609</td>\n      <td>0.850407</td>\n      <td>0.880120</td>\n      <td>0.856546</td>\n    </tr>\n    <tr>\n      <th>1378</th>\n      <td>0.856609</td>\n      <td>0.850407</td>\n      <td>0.880120</td>\n      <td>0.856546</td>\n      <td>0.858998</td>\n    </tr>\n  </tbody>\n</table>\n<p>1379 rows × 5 columns</p>\n</div>"
     },
     "execution_count": 38,
     "metadata": {},
     "output_type": "execute_result"
    }
   ],
   "source": [
    "X_train_see\n",
    "\n"
   ],
   "metadata": {
    "collapsed": false,
    "pycharm": {
     "name": "#%%\n"
    }
   }
  },
  {
   "cell_type": "code",
   "execution_count": 39,
   "outputs": [
    {
     "data": {
      "text/plain": "             0         1\n0     0.014809  0.015711\n1     0.015711  0.014730\n2     0.014730  0.013005\n3     0.013005  0.014698\n4     0.014698  0.015125\n...        ...       ...\n1374  0.850407  0.880120\n1375  0.880120  0.856546\n1376  0.856546  0.858998\n1377  0.858998  0.852353\n1378  0.852353  0.882889\n\n[1379 rows x 2 columns]",
      "text/html": "<div>\n<style scoped>\n    .dataframe tbody tr th:only-of-type {\n        vertical-align: middle;\n    }\n\n    .dataframe tbody tr th {\n        vertical-align: top;\n    }\n\n    .dataframe thead th {\n        text-align: right;\n    }\n</style>\n<table border=\"1\" class=\"dataframe\">\n  <thead>\n    <tr style=\"text-align: right;\">\n      <th></th>\n      <th>0</th>\n      <th>1</th>\n    </tr>\n  </thead>\n  <tbody>\n    <tr>\n      <th>0</th>\n      <td>0.014809</td>\n      <td>0.015711</td>\n    </tr>\n    <tr>\n      <th>1</th>\n      <td>0.015711</td>\n      <td>0.014730</td>\n    </tr>\n    <tr>\n      <th>2</th>\n      <td>0.014730</td>\n      <td>0.013005</td>\n    </tr>\n    <tr>\n      <th>3</th>\n      <td>0.013005</td>\n      <td>0.014698</td>\n    </tr>\n    <tr>\n      <th>4</th>\n      <td>0.014698</td>\n      <td>0.015125</td>\n    </tr>\n    <tr>\n      <th>...</th>\n      <td>...</td>\n      <td>...</td>\n    </tr>\n    <tr>\n      <th>1374</th>\n      <td>0.850407</td>\n      <td>0.880120</td>\n    </tr>\n    <tr>\n      <th>1375</th>\n      <td>0.880120</td>\n      <td>0.856546</td>\n    </tr>\n    <tr>\n      <th>1376</th>\n      <td>0.856546</td>\n      <td>0.858998</td>\n    </tr>\n    <tr>\n      <th>1377</th>\n      <td>0.858998</td>\n      <td>0.852353</td>\n    </tr>\n    <tr>\n      <th>1378</th>\n      <td>0.852353</td>\n      <td>0.882889</td>\n    </tr>\n  </tbody>\n</table>\n<p>1379 rows × 2 columns</p>\n</div>"
     },
     "execution_count": 39,
     "metadata": {},
     "output_type": "execute_result"
    }
   ],
   "source": [
    "y_train_see\n",
    "\n",
    "\n"
   ],
   "metadata": {
    "collapsed": false,
    "pycharm": {
     "name": "#%%\n"
    }
   }
  },
  {
   "cell_type": "markdown",
   "source": [
    "LSTM\n",
    "\n"
   ],
   "metadata": {
    "collapsed": false
   }
  },
  {
   "cell_type": "code",
   "execution_count": 51,
   "outputs": [],
   "source": [
    "def LSTM_model(X_train, y_train, X_test, sc):\n",
    "    # create a model\n",
    "    from keras.models import Sequential\n",
    "    from keras.layers import Dense, SimpleRNN, GRU, LSTM\n",
    "    from tensorflow.keras.optimizers import SGD\n",
    "\n",
    "    # The LSTM architecture\n",
    "    my_LSTM_model = Sequential()\n",
    "    my_LSTM_model.add(LSTM(units = 50,\n",
    "                           return_sequences = True,\n",
    "                           input_shape = (X_train.shape[1],1),\n",
    "                           activation = 'relu'))\n",
    "    my_LSTM_model.add(LSTM(units = 50, activation = 'tanh'))\n",
    "    my_LSTM_model.add(Dense(units=2))\n",
    "\n",
    "    # Compiling\n",
    "    my_LSTM_model.compile(optimizer = SGD(lr = 0.01, decay = 1e-7,\n",
    "                                         momentum = 0.9, nesterov = False),\n",
    "                         loss = 'mean_squared_error')\n",
    "\n",
    "    # Fitting to the training set\n",
    "    my_LSTM_model.fit(X_train, y_train, epochs = 200, batch_size = 50, verbose = 0)\n",
    "\n",
    "    LSTM_prediction = my_LSTM_model.predict(X_test)\n",
    "    LSTM_prediction = sc.inverse_transform(LSTM_prediction)\n",
    "\n",
    "    return my_LSTM_model, LSTM_prediction"
   ],
   "metadata": {
    "collapsed": false,
    "pycharm": {
     "name": "#%%\n"
    }
   }
  },
  {
   "cell_type": "code",
   "execution_count": 43,
   "outputs": [],
   "source": [],
   "metadata": {
    "collapsed": false,
    "pycharm": {
     "name": "#%%\n"
    }
   }
  },
  {
   "cell_type": "code",
   "execution_count": 52,
   "outputs": [],
   "source": [
    "def actual_pred_plot(preds):\n",
    "    \"\"\"\n",
    "    Plot the actual vs predition\n",
    "    \"\"\"\n",
    "    actual_pred = pd.DataFrame(columns = ['actual', 'prediction'])\n",
    "    actual_pred['actual'] = df.loc[split:,'종가'][0:len(preds)]\n",
    "    actual_pred['prediction'] = preds[:,0]\n",
    "\n",
    "    from keras.metrics import MeanSquaredError\n",
    "    m = MeanSquaredError()\n",
    "    m.update_state(np.array(actual_pred['actual']), np.array(actual_pred['prediction']))\n",
    "\n",
    "    return (m.result().numpy(), actual_pred.plot())"
   ],
   "metadata": {
    "collapsed": false,
    "pycharm": {
     "name": "#%%\n"
    }
   }
  },
  {
   "cell_type": "code",
   "execution_count": 53,
   "outputs": [
    {
     "name": "stderr",
     "output_type": "stream",
     "text": [
      "/Users/juhyemin/Projects/Pycharm/pythonProject/btcPrediction/venv2/new/lib/python3.9/site-packages/keras/optimizer_v2/gradient_descent.py:102: UserWarning: The `lr` argument is deprecated, use `learning_rate` instead.\n",
      "  super(SGD, self).__init__(name, **kwargs)\n"
     ]
    },
    {
     "data": {
      "text/plain": "(17983143000000.0, <AxesSubplot:>)"
     },
     "execution_count": 53,
     "metadata": {},
     "output_type": "execute_result"
    },
    {
     "data": {
      "text/plain": "<Figure size 432x288 with 1 Axes>",
      "image/png": "[encoded data removed]"
     },
     "metadata": {
      "needs_background": "light"
     },
     "output_type": "display_data"
    }
   ],
   "source": [
    "my_LSTM_model, LSTM_prediction = LSTM_model(X_train, y_train, X_test, sc)\n",
    "LSTM_prediction[1:10]\n",
    "actual_pred_plot(LSTM_prediction)\n",
    "\n"
   ],
   "metadata": {
    "collapsed": false,
    "pycharm": {
     "name": "#%%\n"
    }
   }
  },
  {
   "cell_type": "code",
   "execution_count": 54,
   "outputs": [],
   "source": [
    "y_pred = pd.DataFrame(LSTM_prediction[:, 0])\n",
    "y_test=all_data.loc[split:,'종가'][0:len(LSTM_prediction)]\n",
    "y_test.reset_index(drop=True, inplace=True)"
   ],
   "metadata": {
    "collapsed": false,
    "pycharm": {
     "name": "#%%\n"
    }
   }
  },
  {
   "cell_type": "code",
   "execution_count": 55,
   "outputs": [],
   "source": [
    "from sklearn.metrics import mean_absolute_error, mean_squared_error, mean_squared_log_error, r2_score\n",
    "\n",
    "def confirm_result(y_test, y_pred):\n",
    "    MAE = mean_absolute_error(y_test, y_pred)\n",
    "    RMSE = np.sqrt(mean_squared_error(y_test, y_pred))\n",
    "    MSLE = mean_squared_log_error(y_test, y_pred)\n",
    "    RMSLE = np.sqrt(mean_squared_log_error(y_test, y_pred))\n",
    "    R2 = r2_score(y_test, y_pred)\n",
    "\n",
    "    pd.options.display.float_format = '{:.5f}'.format\n",
    "    Result = pd.DataFrame(data=[MAE,RMSE, RMSLE, R2],\n",
    "                         index = ['MAE','RMSE', 'RMSLE', 'R2'],\n",
    "                         columns=['Results'])\n",
    "    return Result"
   ],
   "metadata": {
    "collapsed": false,
    "pycharm": {
     "name": "#%%\n"
    }
   }
  },
  {
   "cell_type": "code",
   "execution_count": 56,
   "outputs": [
    {
     "data": {
      "text/plain": "            Results\nMAE   3573971.02521\nRMSE  4240653.78537\nRMSLE       0.07251\nR2          0.90165",
      "text/html": "<div>\n<style scoped>\n    .dataframe tbody tr th:only-of-type {\n        vertical-align: middle;\n    }\n\n    .dataframe tbody tr th {\n        vertical-align: top;\n    }\n\n    .dataframe thead th {\n        text-align: right;\n    }\n</style>\n<table border=\"1\" class=\"dataframe\">\n  <thead>\n    <tr style=\"text-align: right;\">\n      <th></th>\n      <th>Results</th>\n    </tr>\n  </thead>\n  <tbody>\n    <tr>\n      <th>MAE</th>\n      <td>3573971.02521</td>\n    </tr>\n    <tr>\n      <th>RMSE</th>\n      <td>4240653.78537</td>\n    </tr>\n    <tr>\n      <th>RMSLE</th>\n      <td>0.07251</td>\n    </tr>\n    <tr>\n      <th>R2</th>\n      <td>0.90165</td>\n    </tr>\n  </tbody>\n</table>\n</div>"
     },
     "execution_count": 56,
     "metadata": {},
     "output_type": "execute_result"
    }
   ],
   "source": [
    "confirm_result(y_test, y_pred)"
   ],
   "metadata": {
    "collapsed": false,
    "pycharm": {
     "name": "#%%\n"
    }
   }
  },
  {
   "cell_type": "markdown",
   "source": [
    "GRU"
   ],
   "metadata": {
    "collapsed": false,
    "pycharm": {
     "name": "#%% md\n"
    }
   }
  },
  {
   "cell_type": "code",
   "execution_count": 57,
   "outputs": [],
   "source": [
    "def GRU_model(X_train, y_train, X_test, sc):\n",
    "    # create a model\n",
    "    from keras.models import Sequential\n",
    "    from keras.layers import Dense, SimpleRNN, GRU\n",
    "    from tensorflow.keras.optimizers import SGD\n",
    "\n",
    "    # The GRU architecture\n",
    "    my_GRU_model = Sequential()\n",
    "    my_GRU_model.add(GRU(units = 50,\n",
    "                         return_sequences = True,\n",
    "                         input_shape = (X_train.shape[1],1),\n",
    "                         activation = 'tanh'))\n",
    "    my_GRU_model.add(GRU(units = 50,\n",
    "                         activation = 'tanh'))\n",
    "    my_GRU_model.add(Dense(units = 2))\n",
    "\n",
    "    # Compiling the RNN\n",
    "    my_GRU_model.compile(optimizer = SGD(lr = 0.01, decay = 1e-7,\n",
    "                                         momentum = 0.9, nesterov = False),\n",
    "                         loss = 'mean_squared_error')\n",
    "\n",
    "\n",
    "    # Fitting to the trainig set\n",
    "    my_GRU_model.fit(X_train, y_train, epochs = 200, batch_size = 50, verbose = 0)\n",
    "\n",
    "    GRU_prediction = my_GRU_model.predict(X_test)\n",
    "    GRU_prediction = sc.inverse_transform(GRU_prediction)\n",
    "\n",
    "    return my_GRU_model, GRU_prediction\n"
   ],
   "metadata": {
    "collapsed": false,
    "pycharm": {
     "name": "#%%\n"
    }
   }
  },
  {
   "cell_type": "code",
   "execution_count": 58,
   "outputs": [
    {
     "name": "stderr",
     "output_type": "stream",
     "text": [
      "/Users/juhyemin/Projects/Pycharm/pythonProject/btcPrediction/venv2/new/lib/python3.9/site-packages/keras/optimizer_v2/gradient_descent.py:102: UserWarning: The `lr` argument is deprecated, use `learning_rate` instead.\n",
      "  super(SGD, self).__init__(name, **kwargs)\n"
     ]
    },
    {
     "data": {
      "text/plain": "(10833778000000.0, <AxesSubplot:>)"
     },
     "execution_count": 58,
     "metadata": {},
     "output_type": "execute_result"
    },
    {
     "data": {
      "text/plain": "<Figure size 432x288 with 1 Axes>",
      "image/png": "[encoded data removed]"
     },
     "metadata": {
      "needs_background": "light"
     },
     "output_type": "display_data"
    }
   ],
   "source": [
    "my_GRU_model, GRU_prediction = GRU_model(X_train, y_train, X_test, sc)\n",
    "GRU_prediction[1:10]\n",
    "actual_pred_plot(GRU_prediction)"
   ],
   "metadata": {
    "collapsed": false,
    "pycharm": {
     "name": "#%%\n"
    }
   }
  },
  {
   "cell_type": "code",
   "execution_count": 59,
   "outputs": [],
   "source": [
    "y_pred_gru = pd.DataFrame(GRU_prediction[:, 0])\n",
    "y_test_gru=all_data.loc[split:,'종가'][0:len(GRU_prediction)]\n",
    "y_test_gru.reset_index(drop=True, inplace=True)"
   ],
   "metadata": {
    "collapsed": false,
    "pycharm": {
     "name": "#%%\n"
    }
   }
  },
  {
   "cell_type": "code",
   "execution_count": 60,
   "outputs": [
    {
     "data": {
      "text/plain": "            Results\nMAE   2661253.54622\nRMSE  3291470.59760\nRMSLE       0.05756\nR2          0.94075",
      "text/html": "<div>\n<style scoped>\n    .dataframe tbody tr th:only-of-type {\n        vertical-align: middle;\n    }\n\n    .dataframe tbody tr th {\n        vertical-align: top;\n    }\n\n    .dataframe thead th {\n        text-align: right;\n    }\n</style>\n<table border=\"1\" class=\"dataframe\">\n  <thead>\n    <tr style=\"text-align: right;\">\n      <th></th>\n      <th>Results</th>\n    </tr>\n  </thead>\n  <tbody>\n    <tr>\n      <th>MAE</th>\n      <td>2661253.54622</td>\n    </tr>\n    <tr>\n      <th>RMSE</th>\n      <td>3291470.59760</td>\n    </tr>\n    <tr>\n      <th>RMSLE</th>\n      <td>0.05756</td>\n    </tr>\n    <tr>\n      <th>R2</th>\n      <td>0.94075</td>\n    </tr>\n  </tbody>\n</table>\n</div>"
     },
     "execution_count": 60,
     "metadata": {},
     "output_type": "execute_result"
    }
   ],
   "source": [
    "confirm_result(y_test_gru, y_pred_gru)"
   ],
   "metadata": {
    "collapsed": false,
    "pycharm": {
     "name": "#%%\n"
    }
   }
  }
 ],
 "metadata": {
  "kernelspec": {
   "display_name": "Python 3",
   "language": "python",
   "name": "python3"
  },
  "language_info": {
   "codemirror_mode": {
    "name": "ipython",
    "version": 2
   },
   "file_extension": ".py",
   "mimetype": "text/x-python",
   "name": "python",
   "nbconvert_exporter": "python",
   "pygments_lexer": "ipython2",
   "version": "2.7.6"
  }
 },
 "nbformat": 4,
 "nbformat_minor": 0
}