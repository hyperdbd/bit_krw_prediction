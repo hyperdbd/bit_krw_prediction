{
 "cells": [
  {
   "cell_type": "code",
   "execution_count": 14,
   "id": "530f48be",
   "metadata": {
    "id": "530f48be"
   },
   "outputs": [],
   "source": [
    "import numpy as np\n",
    "import pandas as pd\n",
    "import matplotlib.pyplot as plt\n",
    "import math"
   ]
  },
  {
   "cell_type": "code",
   "execution_count": 16,
   "id": "baacb655",
   "metadata": {
    "id": "baacb655",
    "outputId": "9cda2bb4-47b5-404a-ba23-33d14e60b697"
   },
   "outputs": [
    {
     "data": {
      "text/plain": "              날짜          종가          오픈     거래량     변동 %   실업자  실업률(%)  \\\n0     2017-05-23   3,206,000   3,104,000  21.58K    3.29%  99.5     3.6   \n1     2017-05-24   4,175,000   3,206,000  34.68K   30.22%  99.5     3.6   \n2     2017-05-25   4,199,000   4,175,000  35.91K    0.57%  99.5     3.6   \n3     2017-05-26   3,227,000   4,199,000  36.65K  -23.15%  99.5     3.6   \n4     2017-05-27   3,152,000   3,227,000  33.75K   -2.32%  99.5     3.6   \n...          ...         ...         ...     ...      ...   ...     ...   \n1501  2021-07-02  39,417,000  39,335,000   0.52K    0.21%  92.0     3.2   \n1502  2021-07-03  40,335,000  39,413,000   0.19K    2.33%  92.0     3.2   \n1503  2021-07-04  40,914,000  41,183,000   0.55K    1.44%  92.0     3.2   \n1504  2021-07-05  39,484,000  40,914,000   0.70K   -3.50%  92.0     3.2   \n1505  2021-07-06  39,814,000  39,462,000   0.04K    0.84%  92.0     3.2   \n\n      청년실업자  청년실업률(%)    빈도(부정)    빈도(긍정)  코스피지수변화     순매수비율  \n0      40.8       9.2  16.90149  14.58574   0.0033  0.008202  \n1      40.8       9.2  16.92568  15.11493   0.0024  0.008202  \n2      40.8       9.2  16.57495  16.02447   0.0110  0.008202  \n3      40.8       9.2  14.21660  12.58475   0.0053  0.008202  \n4      40.8       9.2  10.08647   8.97965   0.0000  0.008202  \n...     ...       ...       ...       ...      ...       ...  \n1501   30.8       7.2  16.68379  15.77641  -0.0001  0.002991  \n1502   30.8       7.2  13.23093  10.73259   0.0000  0.002991  \n1503   30.8       7.2  11.24750  10.78220   0.0000  0.002991  \n1504   30.8       7.2  15.66184  17.03323   0.0035  0.002991  \n1505   30.8       7.2  17.92344  17.04977   0.0036  0.002991  \n\n[1506 rows x 13 columns]",
      "text/html": "<div>\n<style scoped>\n    .dataframe tbody tr th:only-of-type {\n        vertical-align: middle;\n    }\n\n    .dataframe tbody tr th {\n        vertical-align: top;\n    }\n\n    .dataframe thead th {\n        text-align: right;\n    }\n</style>\n<table border=\"1\" class=\"dataframe\">\n  <thead>\n    <tr style=\"text-align: right;\">\n      <th></th>\n      <th>날짜</th>\n      <th>종가</th>\n      <th>오픈</th>\n      <th>거래량</th>\n      <th>변동 %</th>\n      <th>실업자</th>\n      <th>실업률(%)</th>\n      <th>청년실업자</th>\n      <th>청년실업률(%)</th>\n      <th>빈도(부정)</th>\n      <th>빈도(긍정)</th>\n      <th>코스피지수변화</th>\n      <th>순매수비율</th>\n    </tr>\n  </thead>\n  <tbody>\n    <tr>\n      <th>0</th>\n      <td>2017-05-23</td>\n      <td>3,206,000</td>\n      <td>3,104,000</td>\n      <td>21.58K</td>\n      <td>3.29%</td>\n      <td>99.5</td>\n      <td>3.6</td>\n      <td>40.8</td>\n      <td>9.2</td>\n      <td>16.90149</td>\n      <td>14.58574</td>\n      <td>0.0033</td>\n      <td>0.008202</td>\n    </tr>\n    <tr>\n      <th>1</th>\n      <td>2017-05-24</td>\n      <td>4,175,000</td>\n      <td>3,206,000</td>\n      <td>34.68K</td>\n      <td>30.22%</td>\n      <td>99.5</td>\n      <td>3.6</td>\n      <td>40.8</td>\n      <td>9.2</td>\n      <td>16.92568</td>\n      <td>15.11493</td>\n      <td>0.0024</td>\n      <td>0.008202</td>\n    </tr>\n    <tr>\n      <th>2</th>\n      <td>2017-05-25</td>\n      <td>4,199,000</td>\n      <td>4,175,000</td>\n      <td>35.91K</td>\n      <td>0.57%</td>\n      <td>99.5</td>\n      <td>3.6</td>\n      <td>40.8</td>\n      <td>9.2</td>\n      <td>16.57495</td>\n      <td>16.02447</td>\n      <td>0.0110</td>\n      <td>0.008202</td>\n    </tr>\n    <tr>\n      <th>3</th>\n      <td>2017-05-26</td>\n      <td>3,227,000</td>\n      <td>4,199,000</td>\n      <td>36.65K</td>\n      <td>-23.15%</td>\n      <td>99.5</td>\n      <td>3.6</td>\n      <td>40.8</td>\n      <td>9.2</td>\n      <td>14.21660</td>\n      <td>12.58475</td>\n      <td>0.0053</td>\n      <td>0.008202</td>\n    </tr>\n    <tr>\n      <th>4</th>\n      <td>2017-05-27</td>\n      <td>3,152,000</td>\n      <td>3,227,000</td>\n      <td>33.75K</td>\n      <td>-2.32%</td>\n      <td>99.5</td>\n      <td>3.6</td>\n      <td>40.8</td>\n      <td>9.2</td>\n      <td>10.08647</td>\n      <td>8.97965</td>\n      <td>0.0000</td>\n      <td>0.008202</td>\n    </tr>\n    <tr>\n      <th>...</th>\n      <td>...</td>\n      <td>...</td>\n      <td>...</td>\n      <td>...</td>\n      <td>...</td>\n      <td>...</td>\n      <td>...</td>\n      <td>...</td>\n      <td>...</td>\n      <td>...</td>\n      <td>...</td>\n      <td>...</td>\n      <td>...</td>\n    </tr>\n    <tr>\n      <th>1501</th>\n      <td>2021-07-02</td>\n      <td>39,417,000</td>\n      <td>39,335,000</td>\n      <td>0.52K</td>\n      <td>0.21%</td>\n      <td>92.0</td>\n      <td>3.2</td>\n      <td>30.8</td>\n      <td>7.2</td>\n      <td>16.68379</td>\n      <td>15.77641</td>\n      <td>-0.0001</td>\n      <td>0.002991</td>\n    </tr>\n    <tr>\n      <th>1502</th>\n      <td>2021-07-03</td>\n      <td>40,335,000</td>\n      <td>39,413,000</td>\n      <td>0.19K</td>\n      <td>2.33%</td>\n      <td>92.0</td>\n      <td>3.2</td>\n      <td>30.8</td>\n      <td>7.2</td>\n      <td>13.23093</td>\n      <td>10.73259</td>\n      <td>0.0000</td>\n      <td>0.002991</td>\n    </tr>\n    <tr>\n      <th>1503</th>\n      <td>2021-07-04</td>\n      <td>40,914,000</td>\n      <td>41,183,000</td>\n      <td>0.55K</td>\n      <td>1.44%</td>\n      <td>92.0</td>\n      <td>3.2</td>\n      <td>30.8</td>\n      <td>7.2</td>\n      <td>11.24750</td>\n      <td>10.78220</td>\n      <td>0.0000</td>\n      <td>0.002991</td>\n    </tr>\n    <tr>\n      <th>1504</th>\n      <td>2021-07-05</td>\n      <td>39,484,000</td>\n      <td>40,914,000</td>\n      <td>0.70K</td>\n      <td>-3.50%</td>\n      <td>92.0</td>\n      <td>3.2</td>\n      <td>30.8</td>\n      <td>7.2</td>\n      <td>15.66184</td>\n      <td>17.03323</td>\n      <td>0.0035</td>\n      <td>0.002991</td>\n    </tr>\n    <tr>\n      <th>1505</th>\n      <td>2021-07-06</td>\n      <td>39,814,000</td>\n      <td>39,462,000</td>\n      <td>0.04K</td>\n      <td>0.84%</td>\n      <td>92.0</td>\n      <td>3.2</td>\n      <td>30.8</td>\n      <td>7.2</td>\n      <td>17.92344</td>\n      <td>17.04977</td>\n      <td>0.0036</td>\n      <td>0.002991</td>\n    </tr>\n  </tbody>\n</table>\n<p>1506 rows × 13 columns</p>\n</div>"
     },
     "execution_count": 16,
     "metadata": {},
     "output_type": "execute_result"
    }
   ],
   "source": [
    "df = pd.read_csv('../data/total_data_set.csv')\n",
    "df"
   ]
  },
  {
   "cell_type": "code",
   "execution_count": null,
   "id": "3b8ce500",
   "metadata": {
    "id": "3b8ce500"
   },
   "outputs": [],
   "source": [
    "df['거래량'] = df.거래량.str.replace('K', '').astype('float32')\n"
   ]
  },
  {
   "cell_type": "code",
   "execution_count": null,
   "id": "19ba88c1",
   "metadata": {
    "id": "19ba88c1"
   },
   "outputs": [],
   "source": [
    "df['변동 %']=df.거래량.replace('%', '').astype('float32')"
   ]
  },
  {
   "cell_type": "code",
   "execution_count": null,
   "id": "55799f34",
   "metadata": {
    "id": "55799f34"
   },
   "outputs": [],
   "source": [
    "from sklearn.preprocessing import MinMaxScaler\n",
    "\n",
    "scaler = MinMaxScaler()\n",
    "df=df.drop('날짜', axis=1)\n",
    "df_scaled = scaler.fit_transform(df)\n",
    "\n",
    "df= pd.DataFrame(df_scaled)\n",
    "\n",
    "\n"
   ]
  },
  {
   "cell_type": "code",
   "execution_count": null,
   "id": "9a3ab5e8",
   "metadata": {
    "id": "9a3ab5e8"
   },
   "outputs": [],
   "source": [
    "df.columns = ['종가', '오픈', '거래량','변동 %', '실업자','실업률(%)' ,'청년실업자', '청년실업률(%)', '빈도(부정)','빈도(긍정)', '코스피지수변화', '순매수비율']"
   ]
  },
  {
   "cell_type": "code",
   "execution_count": null,
   "id": "267d25ad",
   "metadata": {
    "id": "267d25ad"
   },
   "outputs": [],
   "source": [
    "prediction_days = 121\n",
    "df_train= df[:1506-prediction_days]\n",
    "df_test= df[1506-prediction_days:]\n"
   ]
  },
  {
   "cell_type": "code",
   "execution_count": null,
   "id": "f65a95fb",
   "metadata": {
    "id": "f65a95fb",
    "outputId": "353105d8-f62c-44d3-9fe8-fc6aac8241fb"
   },
   "outputs": [],
   "source": [
    "ax = df_train.plot()\n",
    "df_test.plot(ax=ax)\n",
    "plt.legend(['train', 'test'])"
   ]
  },
  {
   "cell_type": "code",
   "execution_count": null,
   "id": "818bb392",
   "metadata": {
    "id": "818bb392",
    "outputId": "8115c58c-30cd-4218-f4d8-154e3e5deb9f"
   },
   "outputs": [],
   "source": [
    "df"
   ]
  },
  {
   "cell_type": "code",
   "execution_count": null,
   "id": "b85271f4",
   "metadata": {
    "id": "b85271f4",
    "outputId": "29038fb8-f2d8-4344-d287-1a096e915075"
   },
   "outputs": [],
   "source": [
    "df_train"
   ]
  },
  {
   "cell_type": "code",
   "execution_count": null,
   "id": "f68b4835",
   "metadata": {
    "id": "f68b4835",
    "outputId": "ffb4ff18-6e10-4e7e-caae-a7a73f7aee84"
   },
   "outputs": [],
   "source": [
    "df_test"
   ]
  },
  {
   "cell_type": "code",
   "execution_count": null,
   "id": "2e3420ce",
   "metadata": {
    "id": "2e3420ce"
   },
   "outputs": [],
   "source": [
    "def make_dataset(data, label, window_size=20):\n",
    "    feature_list = []\n",
    "    label_list = []\n",
    "    for i in range(len(data) - window_size):\n",
    "        feature_list.append(np.array(data.iloc[i:i+window_size]))\n",
    "        label_list.append(np.array(label.iloc[i+window_size]))\n",
    "    return np.array(feature_list), np.array(label_list)\n"
   ]
  },
  {
   "cell_type": "code",
   "execution_count": null,
   "id": "059ae5ce",
   "metadata": {
    "id": "059ae5ce",
    "outputId": "7073f8a1-f3a0-4f83-fbfb-fb2c05de0acd"
   },
   "outputs": [],
   "source": [
    "print(type(df_train))\n",
    "print(X_train.shape)\n",
    "X_train=df_train.drop('종가', axis=1)\n",
    "\n",
    "\n"
   ]
  },
  {
   "cell_type": "code",
   "execution_count": null,
   "id": "bb8a4347",
   "metadata": {
    "id": "bb8a4347"
   },
   "outputs": [],
   "source": [
    ""
   ]
  },
  {
   "cell_type": "code",
   "execution_count": null,
   "id": "baadf2bd",
   "metadata": {
    "id": "baadf2bd"
   },
   "outputs": [],
   "source": [
    "y_train = df_train[['종가']]\n"
   ]
  },
  {
   "cell_type": "code",
   "execution_count": null,
   "id": "4876f29a",
   "metadata": {
    "id": "4876f29a",
    "outputId": "cc785ec3-35d0-4962-8e19-ed78c726b898"
   },
   "outputs": [],
   "source": [
    "y_train"
   ]
  },
  {
   "cell_type": "code",
   "execution_count": null,
   "id": "ee4af276",
   "metadata": {
    "id": "ee4af276",
    "outputId": "d1ea1ea6-9487-4951-921a-ff16a3a6a87f"
   },
   "outputs": [],
   "source": [
    "print(type(X_train))\n",
    "print(X_train.shape)\n",
    "print(y_train.shape)\n",
    "print(type(y_train))"
   ]
  },
  {
   "cell_type": "code",
   "execution_count": null,
   "id": "1cb51e83",
   "metadata": {
    "id": "1cb51e83"
   },
   "outputs": [],
   "source": [
    "def make_dataset(data, label, window_size=20):\n",
    "    feature_list = []\n",
    "    label_list = []\n",
    "    for i in range(len(data) - window_size):\n",
    "        feature_list.append(np.array(data.iloc[i:i+window_size]))\n",
    "        label_list.append(np.array(label.iloc[i+window_size]))\n",
    "    return np.array(feature_list), np.array(label_list)\n"
   ]
  },
  {
   "cell_type": "code",
   "execution_count": null,
   "id": "22e48ed4",
   "metadata": {
    "id": "22e48ed4"
   },
   "outputs": [],
   "source": [
    "train_feature, train_label = make_dataset(X_train, y_train, 5)\n",
    "\n",
    "# train, validation set 생성\n",
    "from sklearn.model_selection import train_test_split\n",
    "X_train, X_valid, y_train, y_valid = train_test_split(train_feature, train_label, test_size=0.2)\n",
    "\n"
   ]
  },
  {
   "cell_type": "code",
   "execution_count": null,
   "id": "9ed450fb",
   "metadata": {
    "scrolled": true,
    "id": "9ed450fb",
    "outputId": "f3fb865d-3ba0-4dba-877f-e9601975a901"
   },
   "outputs": [],
   "source": [
    "from keras.models import Sequential\n",
    "from keras.layers import Dense\n",
    "from keras.layers import LSTM\n",
    "from sklearn.metrics import mean_squared_error\n",
    "from keras.callbacks import EarlyStopping, ModelCheckpoint\n",
    "\n",
    "# Initialising the LSTM\n",
    "model = Sequential()\n",
    "model.add(LSTM(16, \n",
    "               input_shape=(train_feature.shape[1], train_feature.shape[2]), \n",
    "               activation='relu', \n",
    "               return_sequences=False)\n",
    "          )\n",
    "model.add(Dense(1))\n",
    "\n",
    "# Compiling the LSTM\n",
    "model.compile(loss = 'mean_squared_error',optimizer = 'adam',)\n",
    "early_stop = EarlyStopping(monitor='loss', patience=1, verbose=1)\n",
    "\n",
    "\n",
    "# Fitting the LSTM to the Training set\n",
    "model.fit(X_train, y_train, batch_size = 16, epochs = 200)\n"
   ]
  },
  {
   "cell_type": "code",
   "execution_count": null,
   "id": "9ee9542f",
   "metadata": {
    "id": "9ee9542f",
    "outputId": "d3e58849-66c7-4d9f-eb79-16dcf2ed8762"
   },
   "outputs": [],
   "source": [
    "X_test=df_test.drop('종가', axis=1)\n",
    "\n",
    "y_test = df_test[['종가']]\n",
    "\n",
    "\n",
    "print(X_test.shape)\n",
    "print(y_test.shape)\n",
    "\n",
    "print(type(y_test))\n"
   ]
  },
  {
   "cell_type": "code",
   "execution_count": null,
   "id": "bf7bb328",
   "metadata": {
    "id": "bf7bb328",
    "outputId": "51693b3c-da3c-4db4-cbc7-efd1edc507fa"
   },
   "outputs": [],
   "source": [
    "test_feature, test_label = make_dataset(X_test, y_test,5)\n",
    "test_feature.shape, test_label.shape"
   ]
  },
  {
   "cell_type": "code",
   "execution_count": null,
   "id": "23ae830f",
   "metadata": {
    "id": "23ae830f"
   },
   "outputs": [],
   "source": [
    "pred = model.predict(test_feature)"
   ]
  },
  {
   "cell_type": "code",
   "execution_count": null,
   "id": "0a929f71",
   "metadata": {
    "id": "0a929f71"
   },
   "outputs": [],
   "source": [
    ""
   ]
  },
  {
   "cell_type": "code",
   "execution_count": null,
   "id": "937d5feb",
   "metadata": {
    "scrolled": true,
    "id": "937d5feb",
    "outputId": "88cda6f7-178b-4d99-b507-55733f663f4a"
   },
   "outputs": [],
   "source": [
    "plt.figure(figsize=(12, 9))\n",
    "plt.plot(test_label, label='actual')\n",
    "plt.plot(pred, label='prediction')\n",
    "plt.legend()\n",
    "plt.show()\n",
    "\n"
   ]
  },
  {
   "cell_type": "code",
   "execution_count": null,
   "id": "315321a4",
   "metadata": {
    "id": "315321a4"
   },
   "outputs": [],
   "source": [
    ""
   ]
  },
  {
   "cell_type": "code",
   "execution_count": null,
   "id": "2608d2f6",
   "metadata": {
    "id": "2608d2f6"
   },
   "outputs": [],
   "source": [
    ""
   ]
  }
 ],
 "metadata": {
  "kernelspec": {
   "display_name": "Python 3",
   "language": "python",
   "name": "python3"
  },
  "language_info": {
   "codemirror_mode": {
    "name": "ipython",
    "version": 3
   },
   "file_extension": ".py",
   "mimetype": "text/x-python",
   "name": "python",
   "nbconvert_exporter": "python",
   "pygments_lexer": "ipython3",
   "version": "3.8.8"
  },
  "colab": {
   "name": "lstm 윈도우사이즈5.ipynb",
   "provenance": []
  }
 },
 "nbformat": 4,
 "nbformat_minor": 5
}